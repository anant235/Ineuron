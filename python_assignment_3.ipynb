{
 "cells": [
  {
   "cell_type": "code",
   "execution_count": 15,
   "metadata": {},
   "outputs": [
    {
     "name": "stdin",
     "output_type": "stream",
     "text": [
      "Please insert the number : 30\n"
     ]
    },
    {
     "name": "stdout",
     "output_type": "stream",
     "text": [
      "sum of all numbers using our implemented reduce function is 210\n",
      "sum of all numbers using inbuilt reduce function is 210\n"
     ]
    }
   ],
   "source": [
    "#1.1\n",
    "#first write a function for sum of sum of natural numbers till the given input\n",
    "\n",
    "num_list=list(range(1,n+1))\n",
    "def myreduce(k):\n",
    "    sum_of_elements=0\n",
    "    \n",
    "    for i in num_list:\n",
    "        sum_of_elements+=i\n",
    "        \n",
    "    return sum_of_elements\n",
    "\n",
    "output=myreduce(n)\n",
    "n=int(input(\"Please insert the number :\"))\n",
    "print('sum of all numbers using our implemented reduce function is',output)\n",
    "\n",
    "# now the same can be done using built in function reduce()\n",
    "\n",
    "from functools import reduce\n",
    "sum_ = reduce((lambda x,y :x+y),num_list)\n",
    "print('sum of all numbers using inbuilt reduce function is',sum_)"
   ]
  },
  {
   "cell_type": "code",
   "execution_count": null,
   "metadata": {},
   "outputs": [],
   "source": []
  },
  {
   "cell_type": "code",
   "execution_count": 17,
   "metadata": {},
   "outputs": [
    {
     "name": "stdin",
     "output_type": "stream",
     "text": [
      "please enter a number : 35\n"
     ]
    },
    {
     "name": "stdout",
     "output_type": "stream",
     "text": [
      "using implemented filter function the even numbers till 35 are [2, 4, 6, 8, 10, 12, 14, 16, 18, 20, 22, 24, 26, 28, 30, 32, 34]\n",
      "using implemented filter function the odd numbers till 35 are [1, 3, 5, 7, 9, 11, 13, 15, 17, 19, 21, 23, 25, 27, 29, 31, 33, 35]\n",
      "using built in filter function the even numbers till 35 are [2, 4, 6, 8, 10, 12, 14, 16, 18, 20, 22, 24, 26, 28, 30, 32, 34]\n",
      "using built in filter function the odd numbers till 35 are [1, 3, 5, 7, 9, 11, 13, 15, 17, 19, 21, 23, 25, 27, 29, 31, 33, 35]\n"
     ]
    }
   ],
   "source": [
    "#1.2\n",
    "#first write a function in which it divides the even number and odd number till out given input number\n",
    "\n",
    "n=int(input('please enter a number :'))\n",
    "num_list=list(range(1,n+1))\n",
    "def myfilter(num_list):\n",
    "    even_list=[]\n",
    "    odd_list=[]\n",
    "    for i in num_list:\n",
    "        if i%2==0:\n",
    "            even_list.append(i)\n",
    "        else:\n",
    "            odd_list.append(i)\n",
    "    return even_list,odd_list\n",
    "output=myfilter(num_list)\n",
    "print('using implemented filter function the even numbers till {} are'.format(n),output[0])\n",
    "print('using implemented filter function the odd numbers till {} are'.format(n),output[1])\n",
    "\n",
    "#now the same can be done using built in function filter()\n",
    "\n",
    "filter_even_list=list(filter(lambda x:x%2==0,num_list))\n",
    "filter_odd_list=list(filter(lambda x:x%2!=0,num_list))\n",
    "print('using built in filter function the even numbers till {} are'.format(n),filter_even_list)\n",
    "print('using built in filter function the odd numbers till {} are'.format(n),filter_odd_list)\n",
    "            "
   ]
  },
  {
   "cell_type": "code",
   "execution_count": null,
   "metadata": {},
   "outputs": [],
   "source": []
  },
  {
   "cell_type": "code",
   "execution_count": 38,
   "metadata": {},
   "outputs": [
    {
     "name": "stdout",
     "output_type": "stream",
     "text": [
      "['x', 'xx', 'xxx', 'xxxx', 'y', 'yy', 'yyy', 'yyyy', 'z', 'zz', 'zzz', 'zzzz']\n"
     ]
    }
   ],
   "source": [
    "#3\n",
    "\n",
    "list_1=list('xyz')\n",
    "list_output_1=[i*n for i in list_1 for n in range(1,5)]\n",
    "print(list_output_1)"
   ]
  },
  {
   "cell_type": "code",
   "execution_count": 39,
   "metadata": {},
   "outputs": [
    {
     "name": "stdout",
     "output_type": "stream",
     "text": [
      "['x', 'y', 'z', 'xx', 'yy', 'zz', 'xxx', 'yyy', 'zzz', 'xxxx', 'yyyy', 'zzzz']\n"
     ]
    }
   ],
   "source": [
    "list_2=list('xyz')\n",
    "list_output_2=[i*n for n in range(1,5) for i in list_2]\n",
    "print(list_output_2)"
   ]
  },
  {
   "cell_type": "code",
   "execution_count": 40,
   "metadata": {},
   "outputs": [
    {
     "name": "stdout",
     "output_type": "stream",
     "text": [
      "[[2], [3], [4], [3], [4], [5], [4], [5], [6]]\n",
      "[[2, 3, 4, 5], [3, 4, 5, 6], [4, 5, 6, 7], [5, 6, 7, 8]]\n"
     ]
    }
   ],
   "source": [
    "list_3=[2,3,4]\n",
    "list_output_3=[[x+n] for x in list_3 for n in range(0,3)]\n",
    "print(list_output_3)\n",
    "list_4=[2,3,4,5]\n",
    "list_output_4=[[x+n for n in range(0,4)]for x in list_4]\n",
    "print(list_output_4)"
   ]
  },
  {
   "cell_type": "code",
   "execution_count": 42,
   "metadata": {},
   "outputs": [
    {
     "name": "stdout",
     "output_type": "stream",
     "text": [
      "[(1, 1), (1, 2), (1, 3), (2, 1), (2, 2), (2, 3), (3, 1), (3, 2), (3, 3)]\n"
     ]
    }
   ],
   "source": [
    "list_5=[1,2,3]\n",
    "list_output_5=[(i,j) for i in list_5 for j in list_5]\n",
    "print(list_output_5)"
   ]
  },
  {
   "cell_type": "code",
   "execution_count": null,
   "metadata": {},
   "outputs": [],
   "source": []
  }
 ],
 "metadata": {
  "kernelspec": {
   "display_name": "Python 3",
   "language": "python",
   "name": "python3"
  },
  "language_info": {
   "codemirror_mode": {
    "name": "ipython",
    "version": 3
   },
   "file_extension": ".py",
   "mimetype": "text/x-python",
   "name": "python",
   "nbconvert_exporter": "python",
   "pygments_lexer": "ipython3",
   "version": "3.7.6"
  }
 },
 "nbformat": 4,
 "nbformat_minor": 4
}
