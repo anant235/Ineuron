{
 "cells": [
  {
   "cell_type": "code",
   "execution_count": 2,
   "metadata": {},
   "outputs": [
    {
     "name": "stdin",
     "output_type": "stream",
     "text": [
      "a= 3\n",
      "b= 4\n",
      "c= 5\n"
     ]
    },
    {
     "name": "stdout",
     "output_type": "stream",
     "text": [
      "area : 6.0\n"
     ]
    }
   ],
   "source": [
    "#1.1\n",
    "\n",
    "a=int(input('a='))\n",
    "b=int(input('b='))\n",
    "c=int(input('c='))\n",
    "class sides_input():\n",
    "    def __init__(self,a,b,c):\n",
    "        self.a=float(a)\n",
    "        self.b=float(b)\n",
    "        self.c=float(c)\n",
    "class triangle(sides_input):\n",
    "    def __init__(self,a,b,c):\n",
    "        super().__init__(a,b,c)\n",
    "    def area(self):\n",
    "        s=(a+b+c)/2\n",
    "        area_=(s*(s-a)*(s-b)*(s-c))** 0.5\n",
    "        return area_\n",
    "t=triangle(a,b,c)\n",
    "print('area : {}'.format(t.area()))"
   ]
  },
  {
   "cell_type": "code",
   "execution_count": null,
   "metadata": {},
   "outputs": [],
   "source": []
  },
  {
   "cell_type": "code",
   "execution_count": 14,
   "metadata": {},
   "outputs": [
    {
     "name": "stdin",
     "output_type": "stream",
     "text": [
      "enter the list of words : Function to take the length of the sides of triangle from user should be defined in the parent class and function to calculate the area should be defined in subclass\n"
     ]
    },
    {
     "name": "stdout",
     "output_type": "stream",
     "text": [
      "\n",
      "\n"
     ]
    },
    {
     "name": "stdin",
     "output_type": "stream",
     "text": [
      "enter a number : 4\n"
     ]
    },
    {
     "name": "stdout",
     "output_type": "stream",
     "text": [
      "\n",
      "\n",
      "words which has length greater than 4 are ['Function', 'length', 'sides', 'triangle', 'should', 'defined', 'parent', 'class', 'function', 'calculate', 'should', 'defined', 'subclass']\n"
     ]
    }
   ],
   "source": [
    "#1.2\n",
    "\n",
    "words_list=[item for item in input('enter the list of words :').split()]\n",
    "print(\"\\n\")\n",
    "n=int(input('enter a number :'))    \n",
    "def filter_long_words(words_list,n):\n",
    "    list_of_words=[]\n",
    "    for i in words_list:\n",
    "        k=len(i)\n",
    "        if(k>n):\n",
    "            list_of_words.append(i)\n",
    "    return list_of_words\n",
    "\n",
    "output=filter_long_words(words_list,n)\n",
    "print(\"\\n\")\n",
    "print('words which has length greater than {} are'.format(n),output)"
   ]
  },
  {
   "cell_type": "code",
   "execution_count": null,
   "metadata": {},
   "outputs": [],
   "source": []
  },
  {
   "cell_type": "code",
   "execution_count": 15,
   "metadata": {},
   "outputs": [
    {
     "name": "stdin",
     "output_type": "stream",
     "text": [
      "enter the list of words : Function to take the length of the sides of triangle from user should be defined in the parent class and function to calculate the area should be defined in subclass\n"
     ]
    },
    {
     "name": "stdout",
     "output_type": "stream",
     "text": [
      "\n",
      "\n",
      "corresponding lengths of each given input word is [8, 2, 4, 3, 6, 2, 3, 5, 2, 8, 4, 4, 6, 2, 7, 2, 3, 6, 5, 3, 8, 2, 9, 3, 4, 6, 2, 7, 2, 8]\n"
     ]
    }
   ],
   "source": [
    "#2.1\n",
    "list_words=[item for item in input('enter the list of words :').split()]\n",
    "print('\\n')\n",
    "def corresponding_lengths(list_words):\n",
    "    correspo_lengths=[]\n",
    "    for i in list_words:\n",
    "        k=len(i)\n",
    "        correspo_lengths.append(k)\n",
    "    return correspo_lengths\n",
    "output=corresponding_lengths(list_words)\n",
    "print('corresponding lengths of each given input word is',output)\n"
   ]
  },
  {
   "cell_type": "code",
   "execution_count": null,
   "metadata": {},
   "outputs": [],
   "source": []
  },
  {
   "cell_type": "code",
   "execution_count": 4,
   "metadata": {},
   "outputs": [
    {
     "name": "stdin",
     "output_type": "stream",
     "text": [
      "enter a character :  c\n"
     ]
    },
    {
     "name": "stdout",
     "output_type": "stream",
     "text": [
      "False\n"
     ]
    }
   ],
   "source": [
    "#2.2\n",
    "char=input('enter a character : ')\n",
    "def bool_vowel(char):\n",
    "    vowel=['a','e','i','o','u']\n",
    "    for i in char:\n",
    "        if i in vowel:\n",
    "            return True\n",
    "        else:\n",
    "            return False\n",
    "output=bool_vowel(char)\n",
    "print(output)"
   ]
  },
  {
   "cell_type": "code",
   "execution_count": null,
   "metadata": {},
   "outputs": [],
   "source": []
  }
 ],
 "metadata": {
  "kernelspec": {
   "display_name": "Python 3",
   "language": "python",
   "name": "python3"
  },
  "language_info": {
   "codemirror_mode": {
    "name": "ipython",
    "version": 3
   },
   "file_extension": ".py",
   "mimetype": "text/x-python",
   "name": "python",
   "nbconvert_exporter": "python",
   "pygments_lexer": "ipython3",
   "version": "3.7.6"
  }
 },
 "nbformat": 4,
 "nbformat_minor": 4
}
